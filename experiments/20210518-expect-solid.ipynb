{
 "cells": [
  {
   "cell_type": "code",
   "execution_count": 1,
   "id": "6601e586",
   "metadata": {},
   "outputs": [],
   "source": [
    "using Expect"
   ]
  },
  {
   "cell_type": "code",
   "execution_count": 15,
   "id": "5e931866",
   "metadata": {},
   "outputs": [
    {
     "data": {
      "text/plain": [
       "ExpectProc(Process(`\u001b[4msol\u001b[24m \u001b[4mshell\u001b[24m`, ProcessRunning), 30, Expect.var\"#2#5\"(), Expect.var\"#3#6\"(), Base.PipeEndpoint(RawFD(55) open, 0 bytes waiting), Base.PipeEndpoint(RawFD(54) open, 0 bytes waiting), nothing, nothing, UInt8[])"
      ]
     },
     "execution_count": 15,
     "metadata": {},
     "output_type": "execute_result"
    },
    {
     "name": "stderr",
     "output_type": "stream",
     "text": [
      "stty: when specifying an output style, modes may not be set\n",
      "/home/shaowei/.nvm/versions/node/v16.1.0/lib/node_modules/solid-shell/node_modules/readline-sync/lib/read.sh: 49: cannot create /dev/tty: No such device or address\n",
      "stty: invalid argument ‘-f’\n",
      "Try 'stty --help' for more information.\n"
     ]
    }
   ],
   "source": [
    "solproc = ExpectProc(`sol shell`, 30; pty=false)"
   ]
  },
  {
   "cell_type": "markdown",
   "id": "776a2ffd",
   "metadata": {},
   "source": [
    "sol shell uses readline-sync which only works with a tty, so it will not work with IJulia \n",
    "\n",
    "https://github.com/anseki/readline-sync/issues/26"
   ]
  },
  {
   "cell_type": "code",
   "execution_count": null,
   "id": "8c3d08cc",
   "metadata": {},
   "outputs": [],
   "source": []
  }
 ],
 "metadata": {
  "kernelspec": {
   "display_name": "Julia 1.6.1",
   "language": "julia",
   "name": "julia-1.6"
  },
  "language_info": {
   "file_extension": ".jl",
   "mimetype": "application/julia",
   "name": "julia",
   "version": "1.6.1"
  }
 },
 "nbformat": 4,
 "nbformat_minor": 5
}
