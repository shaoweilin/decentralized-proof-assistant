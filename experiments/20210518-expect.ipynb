{
 "cells": [
  {
   "cell_type": "code",
   "execution_count": 1,
   "id": "d5d2316b",
   "metadata": {},
   "outputs": [],
   "source": [
    "using Expect"
   ]
  },
  {
   "cell_type": "code",
   "execution_count": 2,
   "id": "f20f5628",
   "metadata": {},
   "outputs": [
    {
     "data": {
      "text/plain": [
       "ExpectProc(Process(`\u001b[4mftp\u001b[24m \u001b[4mftp.scene.org\u001b[24m`, ProcessRunning), 30, Expect.var\"#2#5\"(), Expect.var\"#3#6\"(), Base.TTY(RawFD(44) active, 0 bytes waiting), Base.TTY(RawFD(44) active, 0 bytes waiting), nothing, nothing, UInt8[])"
      ]
     },
     "execution_count": 2,
     "metadata": {},
     "output_type": "execute_result"
    }
   ],
   "source": [
    "ftpproc = ExpectProc(`ftp ftp.scene.org`, 30)"
   ]
  },
  {
   "cell_type": "code",
   "execution_count": 3,
   "id": "ff20262e",
   "metadata": {},
   "outputs": [
    {
     "data": {
      "text/plain": [
       "\"Connected to archive.scene.org.\\n220 ftp.scene.org FTP server (SceneOrgFTPD-2.4.4) ready.\\n\""
      ]
     },
     "execution_count": 3,
     "metadata": {},
     "output_type": "execute_result"
    }
   ],
   "source": [
    "expect!(ftpproc, r\"Name.*: $\")"
   ]
  },
  {
   "cell_type": "code",
   "execution_count": 4,
   "id": "b0454041",
   "metadata": {},
   "outputs": [
    {
     "data": {
      "text/plain": [
       "10"
      ]
     },
     "execution_count": 4,
     "metadata": {},
     "output_type": "execute_result"
    }
   ],
   "source": [
    "println(ftpproc, \"anonymous\")"
   ]
  },
  {
   "cell_type": "code",
   "execution_count": 5,
   "id": "1564c065",
   "metadata": {},
   "outputs": [
    {
     "data": {
      "text/plain": [
       "\"331 Anonymous login ok, send your complete email address as your password\\n\""
      ]
     },
     "execution_count": 5,
     "metadata": {},
     "output_type": "execute_result"
    }
   ],
   "source": [
    "expect!(ftpproc, \"Password:\")"
   ]
  },
  {
   "cell_type": "code",
   "execution_count": 6,
   "id": "37dd0260",
   "metadata": {},
   "outputs": [
    {
     "data": {
      "text/plain": [
       "21"
      ]
     },
     "execution_count": 6,
     "metadata": {},
     "output_type": "execute_result"
    }
   ],
   "source": [
    "println(ftpproc, \"joe@your.domain.name\")"
   ]
  },
  {
   "cell_type": "code",
   "execution_count": 7,
   "id": "5c17dabb",
   "metadata": {},
   "outputs": [
    {
     "data": {
      "text/plain": [
       "\"\\n230-\\n230-  _________ _________   __________  _______    __________\\n230- /  ______/ \\\\_   ___ \\\\  \\\\_   ____/  \\\\      \\\\   \\\\_   ____/\\n230- \\\\_____  \\\\  /    \\\\  \\\\/   |    _)_   /   |   \\\\   |    _)_\\n230- /        \\\\ \\\\     \\\\____  |       \\\\ /    |    \\\\  |       \\\\\\n230-/_______  /  \\\\______  / /______  / \\\\____|__  / /______  /\\n230-        \\\\/          \\\\/         \\\\/          \\\\/         \\\\/  . ORG!\\n230-'elektronik free art' since 11 March 1996\\n230-                                                            Problems? Mail:\\n230-                                                            ftp@scene.org\\n230 Anonymous access granted, restrictions apply\\nRemote system type is UNIX.\\nUsing binary mode to transfer files.\\n\""
      ]
     },
     "execution_count": 7,
     "metadata": {},
     "output_type": "execute_result"
    }
   ],
   "source": [
    "expect!(ftpproc, \"ftp> \")"
   ]
  },
  {
   "cell_type": "code",
   "execution_count": 8,
   "id": "70219924",
   "metadata": {},
   "outputs": [
    {
     "data": {
      "text/plain": [
       "6"
      ]
     },
     "execution_count": 8,
     "metadata": {},
     "output_type": "execute_result"
    }
   ],
   "source": [
    "println(ftpproc, \"ascii\")"
   ]
  },
  {
   "cell_type": "code",
   "execution_count": 9,
   "id": "0b638db6",
   "metadata": {},
   "outputs": [
    {
     "data": {
      "text/plain": [
       "\"200 Type set to A\\n\""
      ]
     },
     "execution_count": 9,
     "metadata": {},
     "output_type": "execute_result"
    }
   ],
   "source": [
    "expect!(ftpproc, \"ftp> \")"
   ]
  },
  {
   "cell_type": "code",
   "execution_count": 10,
   "id": "80c5318d",
   "metadata": {},
   "outputs": [
    {
     "data": {
      "text/plain": [
       "7"
      ]
     },
     "execution_count": 10,
     "metadata": {},
     "output_type": "execute_result"
    }
   ],
   "source": [
    "println(ftpproc, \"cd pub\")"
   ]
  },
  {
   "cell_type": "code",
   "execution_count": 11,
   "id": "8ff9d5e8",
   "metadata": {},
   "outputs": [
    {
     "data": {
      "text/plain": [
       "\"250 CWD command successful\\n\""
      ]
     },
     "execution_count": 11,
     "metadata": {},
     "output_type": "execute_result"
    }
   ],
   "source": [
    "expect!(ftpproc, \"ftp> \")"
   ]
  },
  {
   "cell_type": "code",
   "execution_count": 12,
   "id": "eb882e8d",
   "metadata": {},
   "outputs": [
    {
     "data": {
      "text/plain": [
       "5"
      ]
     },
     "execution_count": 12,
     "metadata": {},
     "output_type": "execute_result"
    }
   ],
   "source": [
    "println(ftpproc, \"quit\")"
   ]
  },
  {
   "cell_type": "code",
   "execution_count": 13,
   "id": "3034d122",
   "metadata": {},
   "outputs": [
    {
     "data": {
      "text/plain": [
       "\"221\""
      ]
     },
     "execution_count": 13,
     "metadata": {},
     "output_type": "execute_result"
    }
   ],
   "source": [
    "expect!(ftpproc, \" \")"
   ]
  },
  {
   "cell_type": "code",
   "execution_count": 15,
   "id": "ac36459c",
   "metadata": {},
   "outputs": [
    {
     "ename": "LoadError",
     "evalue": "type ExpectProc has no field matching",
     "output_type": "error",
     "traceback": [
      "type ExpectProc has no field matching",
      "",
      "Stacktrace:",
      " [1] getproperty(x::ExpectProc, f::Symbol)",
      "   @ Base ./Base.jl:33",
      " [2] top-level scope",
      "   @ In[15]:1",
      " [3] eval",
      "   @ ./boot.jl:360 [inlined]",
      " [4] include_string(mapexpr::typeof(REPL.softscope), mod::Module, code::String, filename::String)",
      "   @ Base ./loading.jl:1094"
     ]
    }
   ],
   "source": [
    "ftpproc.matching"
   ]
  },
  {
   "cell_type": "code",
   "execution_count": null,
   "id": "a7325372",
   "metadata": {},
   "outputs": [],
   "source": []
  }
 ],
 "metadata": {
  "kernelspec": {
   "display_name": "Julia 1.6.1",
   "language": "julia",
   "name": "julia-1.6"
  },
  "language_info": {
   "file_extension": ".jl",
   "mimetype": "application/julia",
   "name": "julia",
   "version": "1.6.1"
  }
 },
 "nbformat": 4,
 "nbformat_minor": 5
}
