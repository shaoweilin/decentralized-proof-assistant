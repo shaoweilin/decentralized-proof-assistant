{
 "cells": [
  {
   "cell_type": "code",
   "execution_count": null,
   "id": "e4e5b654",
   "metadata": {},
   "outputs": [],
   "source": [
    "# https://docs.julialang.org/en/v1/manual/running-external-programs/\n",
    "# https://github.com/Microsoft/vscode/issues/18193"
   ]
  },
  {
   "cell_type": "code",
   "execution_count": null,
   "id": "1fcaca89",
   "metadata": {},
   "outputs": [],
   "source": [
    "solin  = Pipe()\n",
    "solout = Pipe()\n",
    "solerr = Pipe()\n",
    "open(pipeline(`python`, stdin = solin, stdout = solout, stderr = solerr))\n",
    "#process_running(solproc) || error(\"There was a problem starting up solid shell.\")\n",
    "close(solout.in)\n",
    "close(solerr.in)\n",
    "close(solin.out)\n",
    "Base.start_reading(solerr.out)"
   ]
  },
  {
   "cell_type": "code",
   "execution_count": null,
   "id": "3618c851",
   "metadata": {},
   "outputs": [],
   "source": [
    "read(solerr,String)"
   ]
  },
  {
   "cell_type": "code",
   "execution_count": null,
   "id": "78a42015",
   "metadata": {},
   "outputs": [],
   "source": [
    "read(solout,Char)"
   ]
  },
  {
   "cell_type": "code",
   "execution_count": null,
   "id": "9939c0be",
   "metadata": {},
   "outputs": [],
   "source": [
    "read(solin,String)"
   ]
  },
  {
   "cell_type": "code",
   "execution_count": null,
   "id": "5bf19599",
   "metadata": {},
   "outputs": [],
   "source": [
    "write(solin,\"1+1\\n\")"
   ]
  },
  {
   "cell_type": "code",
   "execution_count": null,
   "id": "8d3f1f97",
   "metadata": {},
   "outputs": [],
   "source": [
    "solin"
   ]
  },
  {
   "cell_type": "code",
   "execution_count": null,
   "id": "34acb01e",
   "metadata": {},
   "outputs": [],
   "source": [
    "run(`python`)"
   ]
  },
  {
   "cell_type": "code",
   "execution_count": null,
   "id": "e134b7ca",
   "metadata": {},
   "outputs": [],
   "source": [
    "isa(solout,Base.TTY)"
   ]
  },
  {
   "cell_type": "code",
   "execution_count": null,
   "id": "8d8035a2",
   "metadata": {},
   "outputs": [],
   "source": [
    "import Sockets"
   ]
  },
  {
   "cell_type": "code",
   "execution_count": null,
   "id": "b60169dc",
   "metadata": {},
   "outputs": [],
   "source": [
    "const publish = Ref{Socket}()"
   ]
  },
  {
   "cell_type": "code",
   "execution_count": null,
   "id": "414a81da",
   "metadata": {},
   "outputs": [],
   "source": [
    "Base.repl_cmd(@cmd(\"echo 'hello'\"),stdout)"
   ]
  },
  {
   "cell_type": "code",
   "execution_count": null,
   "id": "eff42f9e",
   "metadata": {},
   "outputs": [],
   "source": [
    "import Base"
   ]
  },
  {
   "cell_type": "code",
   "execution_count": null,
   "id": "fa78604d",
   "metadata": {},
   "outputs": [],
   "source": [
    "stdout"
   ]
  },
  {
   "cell_type": "code",
   "execution_count": null,
   "id": "1b991ef8",
   "metadata": {},
   "outputs": [],
   "source": [
    "stdin"
   ]
  },
  {
   "cell_type": "code",
   "execution_count": null,
   "id": "e4ada330",
   "metadata": {},
   "outputs": [],
   "source": [
    "stderr"
   ]
  },
  {
   "cell_type": "code",
   "execution_count": null,
   "id": "b74bbfcb",
   "metadata": {},
   "outputs": [],
   "source": []
  }
 ],
 "metadata": {
  "kernelspec": {
   "display_name": "Julia 1.6.1",
   "language": "julia",
   "name": "julia-1.6"
  },
  "language_info": {
   "file_extension": ".jl",
   "mimetype": "application/julia",
   "name": "julia",
   "version": "1.6.1"
  }
 },
 "nbformat": 4,
 "nbformat_minor": 5
}
